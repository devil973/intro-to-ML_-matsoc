{
 "cells": [
  {
   "cell_type": "markdown",
   "id": "07d251a1",
   "metadata": {},
   "source": [
    "# Assignment 2(a): Logistics regression \n"
   ]
  },
  {
   "cell_type": "markdown",
   "id": "98a5c83e",
   "metadata": {},
   "source": [
    "# Introduction\n",
    "Tipping is a cultural phenomenon that varies widely across the globe. This dataset from 2024 provides an intriguing glimpse into the tipping behaviors in a city's restaurants. Let's dive in and see what insights we can uncover."
   ]
  },
  {
   "cell_type": "markdown",
   "id": "5f6a128e",
   "metadata": {},
   "source": [
    "# Data Loading\n",
    "##### Let's start by loading the dataset and looking at its structure first.\n",
    "##### Task1: Import the required libraries\n",
    "##### Task2: Load the data set\n",
    "##### Task3: Explore the first 5 rows of the data set\n",
    "##### Task4: Explore the information about data set using .info()"
   ]
  },
  {
   "cell_type": "code",
   "execution_count": null,
   "id": "48aaf081",
   "metadata": {
    "id": "data-loading"
   },
   "outputs": [
    {
     "ename": "",
     "evalue": "",
     "output_type": "error",
     "traceback": [
      "\u001b[1;31mRunning cells with 'Python 3.10.6' requires the ipykernel package.\n",
      "\u001b[1;31mRun the following command to install 'ipykernel' into the Python environment. \n",
      "\u001b[1;31mCommand: '\"c:/Users/Prince Pathak/AppData/Local/Programs/Python/Python310/python.exe\" -m pip install ipykernel -U --user --force-reinstall'"
     ]
    }
   ],
   "source": [
    "import numpy as np\n",
    "import pandas as pd\n",
    "import matplotlib.pyplot as plt\n",
    "from sklearn.preprocessing import MinMaxScaler\n",
    "import seaborn as sns\n",
    "import scipy\n",
    "data=pd.read_csv('Tips Dataset.csv')\n",
    "data.head()\n"
   ]
  },
  {
   "cell_type": "code",
   "execution_count": null,
   "id": "dd4e809b",
   "metadata": {},
   "outputs": [],
   "source": [
    "data.info()"
   ]
  },
  {
   "cell_type": "markdown",
   "id": "22dfcc4e",
   "metadata": {},
   "source": [
    "# Data Cleaning and Preprocessing\n",
    "Before diving into analysis, let's clean and preprocess the data. This includes handling missing values, correcting data types, and removing unnecessary columns."
   ]
  },
  {
   "cell_type": "code",
   "execution_count": 1,
   "id": "755265de",
   "metadata": {
    "id": "data-cleaning"
   },
   "outputs": [],
   "source": [
    "# Drop the 'Unnamed: 0' column as it seems to be an index\n",
    "data.drop(columns =['Unnamed: 0'],inplace=True)\n",
    "data['sitting_time'] = data['sitting_time'].str.replace('min', '').astype(int)\n",
    "data_encoded = pd.get_dummies(data, columns=['cuisine', 'restaurant', 'payment_type'], drop_first=True)\n",
    "\n",
    "# Check for missing values\n",
    "data.isnull().sum()\n"
   ]
  },
  {
   "cell_type": "markdown",
   "id": "b9476cbc",
   "metadata": {},
   "source": [
    "The dataset appears to be clean with no missing values. Let's proceed to explore the data."
   ]
  },
  {
   "cell_type": "markdown",
   "id": "cee07232",
   "metadata": {},
   "source": [
    "# Exploratory Data Analysis\n",
    "In this section, we will explore the dataset using various visualization techniques to uncover patterns and insights."
   ]
  },
  {
   "cell_type": "code",
   "execution_count": 3,
   "id": "ee7be453",
   "metadata": {
    "id": "eda"
   },
   "outputs": [],
   "source": [
    "# Distribution of tips\n",
    "# Plot histogram using histplot keep Title: 'Distribution of Tips', Y axis: 'Frequency', X axis: 'Tip Amount', Bins = 20\n",
    "\n",
    "data = data['tips']  # Replace with your dataset\n",
    "plt.hist(data, bins=20, edgecolor='k')\n",
    "plt.xlabel('Tip Amount')\n",
    "plt.ylabel('Frequency')\n",
    "plt.title('Distribution of Tips')\n",
    "plt.show()\n",
    "\n"
   ]
  },
  {
   "cell_type": "code",
   "execution_count": 5,
   "id": "988be617",
   "metadata": {
    "id": "eda-2"
   },
   "outputs": [],
   "source": [
    "# Tips by cuisine type\n",
    "# Keep title: 'Tips by Cuisine Type'\n",
    "\n",
    "data = data['cuisine']  \n",
    "plt.figure(figsize=(12, 6)) \n",
    "plt.hist(data, bins=30, edgecolor='k')\n",
    "plt.xlabel('cuisine type')\n",
    "plt.ylabel('Frequency')\n",
    "plt.title('Tips by Cuisine Type')\n",
    "plt.show()\n"
   ]
  },
  {
   "cell_type": "code",
   "execution_count": 6,
   "id": "3df51bd8",
   "metadata": {
    "id": "eda-3"
   },
   "outputs": [],
   "source": [
    "# Payment type distribution\n",
    "# title: 'Payment Type Distribution'\n",
    "\n",
    "data = data['payment_type']  # Replace with your dataset\n",
    "plt.hist(data, bins=20, edgecolor='k')\n",
    "plt.xlabel('Payment Type')\n",
    "plt.ylabel('Frequency')\n",
    "plt.title('Payment Type Distribution')\n",
    "plt.show()\n"
   ]
  },
  {
   "cell_type": "markdown",
   "id": "3f2af73e",
   "metadata": {},
   "source": [
    "# Predictive Modeling\n",
    "Let's see if we can predict the tip amount based on other features in the dataset. We'll use a simple linear regression model for this task."
   ]
  },
  {
   "cell_type": "code",
   "execution_count": null,
   "id": "4e01f579",
   "metadata": {
    "execution": {
     "iopub.status.busy": "2023-10-03T14:00:00Z",
     "iopub.status.idle": "2023-10-03T14:00:00Z"
    },
    "id": "predictive-modeling"
   },
   "outputs": [],
   "source": [
    "# import train_test_split\n",
    "#import LinearRegression\n",
    "#import mean_squared_error\n",
    "from sklearn.model_selection import train_test_split\n",
    "from sklearn.linear_model import LinearRegression\n",
    "from sklearn.metrics import mean_squared_error\n",
    "\n",
    "# Prepare the data\n",
    "X =  data_encoded.drop(columns=['tips'])  \n",
    "y = data_encoded['tips'] \n",
    "\n",
    "# Split the data, keep random state = 42\n",
    "X_train, X_test, y_train, y_test = train_test_split(X, y, test_size=0.2, random_state=42)\n",
    "\n",
    "# Train the model\n",
    "model = LinearRegression()\n",
    "# fit the model\n",
    "model.fit(X_train, y_train)\n",
    "\n",
    "# Predict and evaluate\n",
    "y_pred = y_pred = model.predict(X_test)\n",
    "mse = mean_squared_error(y_test, y_pred)\n"
   ]
  },
  {
   "cell_type": "markdown",
   "id": "56437dd9-9737-488b-83d9-b9778bfba2f0",
   "metadata": {},
   "source": [
    "## Evaluate the Model\n"
   ]
  },
  {
   "cell_type": "code",
   "execution_count": null,
   "id": "55d21dd2-de3b-4336-9b5f-71fd90d3abfb",
   "metadata": {},
   "outputs": [],
   "source": []
  },
  {
   "cell_type": "markdown",
   "id": "7ac13754",
   "metadata": {},
   "source": [
    "# Good Job!"
   ]
  }
 ],
 "metadata": {
  "kaggle": {
   "accelerator": "none",
   "dataSources": [
    {
     "datasetId": 6249749,
     "sourceId": 10127397,
     "sourceType": "datasetVersion"
    }
   ],
   "dockerImageVersionId": 30804,
   "isGpuEnabled": false,
   "isInternetEnabled": false,
   "language": "python",
   "sourceType": "notebook"
  },
  "kernelspec": {
   "display_name": "Python 3",
   "language": "python",
   "name": "python3"
  },
  "language_info": {
   "codemirror_mode": {
    "name": "ipython",
    "version": 3
   },
   "file_extension": ".py",
   "mimetype": "text/x-python",
   "name": "python",
   "nbconvert_exporter": "python",
   "pygments_lexer": "ipython3",
   "version": "3.10.6"
  }
 },
 "nbformat": 4,
 "nbformat_minor": 5
}
